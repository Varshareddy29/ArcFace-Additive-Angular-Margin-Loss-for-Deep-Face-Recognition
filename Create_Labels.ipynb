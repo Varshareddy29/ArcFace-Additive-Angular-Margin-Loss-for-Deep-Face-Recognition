{
  "nbformat": 4,
  "nbformat_minor": 0,
  "metadata": {
    "colab": {
      "provenance": []
    },
    "kernelspec": {
      "name": "python3",
      "display_name": "Python 3"
    },
    "language_info": {
      "name": "python"
    }
  },
  "cells": [
    {
      "cell_type": "code",
      "execution_count": null,
      "metadata": {
        "id": "wkCZ4-32U95J"
      },
      "outputs": [],
      "source": [
        "import os\n",
        "import csv"
      ]
    },
    {
      "cell_type": "code",
      "source": [
        "def get_images_and_labels(root_dir):\n",
        "    images = []\n",
        "    labels = []\n",
        "    label_dict = {}\n",
        "    current_label = 0\n",
        "    for person_name in sorted(os.listdir(root_dir)):\n",
        "        class_folder = os.path.join(root_dir, person_name)\n",
        "        if os.path.isdir(class_folder):\n",
        "            for img_file in sorted(os.listdir(class_folder)):\n",
        "                img_path = os.path.join(class_folder, img_file)\n",
        "                images.append(img_path)\n",
        "                if person_name not in label_dict:\n",
        "                    label_dict[person_name] = current_label\n",
        "                    current_label += 1\n",
        "                labels.append(label_dict[person_name])\n",
        "    return images, labels\n"
      ],
      "metadata": {
        "id": "GFUop_O7VCh1"
      },
      "execution_count": null,
      "outputs": []
    },
    {
      "cell_type": "code",
      "source": [
        "def save_images_and_labels_to_csv(images, labels, csv_filename):\n",
        "    with open(csv_filename, 'w', newline='') as csvfile:\n",
        "        writer = csv.writer(csvfile)\n",
        "        writer.writerow(['image_path', 'label'])\n",
        "        for img_path, label in zip(images, labels):\n",
        "            writer.writerow([img_path, label])\n",
        "\n",
        "\n"
      ],
      "metadata": {
        "id": "yt1wtXoXVDvo"
      },
      "execution_count": null,
      "outputs": []
    },
    {
      "cell_type": "code",
      "source": [
        "root_dir = '/content/drive/MyDrive/DL/data/new_dataset'\n",
        "images, labels = get_images_and_labels(root_dir)"
      ],
      "metadata": {
        "id": "vVLy0k9VVFUc"
      },
      "execution_count": null,
      "outputs": []
    },
    {
      "cell_type": "code",
      "source": [
        "csv_filename = '/content/drive/MyDrive/DL/data/dataset_labels.csv'\n",
        "save_images_and_labels_to_csv(images, labels, csv_filename)\n",
        "print(f\"Saved image paths and labels to {csv_filename}\")"
      ],
      "metadata": {
        "id": "sOYs8dRuVG--",
        "outputId": "a047c96e-2787-4d47-bfee-c0edfcf3a21e",
        "colab": {
          "base_uri": "https://localhost:8080/"
        }
      },
      "execution_count": null,
      "outputs": [
        {
          "output_type": "stream",
          "name": "stdout",
          "text": [
            "Saved image paths and labels to /content/drive/MyDrive/DL/data/dataset_labels.csv\n"
          ]
        }
      ]
    },
    {
      "cell_type": "code",
      "source": [],
      "metadata": {
        "id": "YMefCUFHXfYC"
      },
      "execution_count": null,
      "outputs": []
    }
  ]
}