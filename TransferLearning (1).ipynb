{
  "nbformat": 4,
  "nbformat_minor": 0,
  "metadata": {
    "colab": {
      "provenance": []
    },
    "kernelspec": {
      "name": "python3",
      "display_name": "Python 3"
    },
    "language_info": {
      "name": "python"
    }
  },
  "cells": [
    {
      "cell_type": "markdown",
      "source": [
        "### **Importing Necessary Liberaries**"
      ],
      "metadata": {
        "id": "nJIeGcRSbgx_"
      }
    },
    {
      "cell_type": "code",
      "execution_count": null,
      "metadata": {
        "id": "gTulb7riXPTs"
      },
      "outputs": [],
      "source": [
        "import os\n",
        "import pandas as pd\n",
        "import torch\n",
        "import numpy as np\n",
        "from torch.utils.data import DataLoader, Dataset, random_split\n",
        "from torchvision import transforms\n",
        "from PIL import Image"
      ]
    },
    {
      "cell_type": "markdown",
      "source": [
        "### **Define Custom Dataset Class**"
      ],
      "metadata": {
        "id": "F6-yjLpvbm82"
      }
    },
    {
      "cell_type": "code",
      "source": [
        "class CustomDataset(Dataset):\n",
        "    def __init__(self, csv_file, root_dir, transform=None):\n",
        "        self.dataframe = pd.read_csv(csv_file)\n",
        "        self.root_dir = root_dir\n",
        "        self.transform = transform\n",
        "\n",
        "    def __len__(self):\n",
        "        return len(self.dataframe)\n",
        "\n",
        "    def __getitem__(self, idx):\n",
        "        img_name = os.path.join(self.root_dir, self.dataframe.iloc[idx, 0])\n",
        "        image = Image.open(img_name)\n",
        "        label = int(self.dataframe.iloc[idx, 1])\n",
        "\n",
        "        if self.transform:\n",
        "            image = self.transform(image)\n",
        "\n",
        "        return image, label\n"
      ],
      "metadata": {
        "id": "LgxJ3d2iXtzB"
      },
      "execution_count": null,
      "outputs": []
    },
    {
      "cell_type": "markdown",
      "source": [
        "## **Paths to the dataset and labels**"
      ],
      "metadata": {
        "id": "IqNCgdIVbwVF"
      }
    },
    {
      "cell_type": "code",
      "source": [
        "root_dir = '/content/drive/MyDrive/DL/data/new_dataset'\n",
        "csv_filename = '/content/drive/MyDrive/DL/data/dataset_labels.csv'"
      ],
      "metadata": {
        "id": "RR1I6Su4X1-V"
      },
      "execution_count": null,
      "outputs": []
    },
    {
      "cell_type": "markdown",
      "source": [
        "### **Transform**"
      ],
      "metadata": {
        "id": "k2Uy-Nk5b58I"
      }
    },
    {
      "cell_type": "code",
      "source": [
        "transform = transforms.Compose([\n",
        "    transforms.Resize((112, 112)),\n",
        "    transforms.ToTensor(),\n",
        "    transforms.Normalize(mean=[0.485, 0.456, 0.406], std=[0.229, 0.224, 0.225]),\n",
        "])"
      ],
      "metadata": {
        "id": "a9ge9fQyYH-j"
      },
      "execution_count": null,
      "outputs": []
    },
    {
      "cell_type": "markdown",
      "source": [
        "### **Load the data and transform**"
      ],
      "metadata": {
        "id": "hlVc93Y5cBOy"
      }
    },
    {
      "cell_type": "code",
      "source": [
        "dataset = CustomDataset(csv_file=csv_filename, root_dir=root_dir, transform=transform)\n",
        "dataset"
      ],
      "metadata": {
        "id": "1-mMXn3YYH6U",
        "colab": {
          "base_uri": "https://localhost:8080/"
        },
        "outputId": "a891c23f-ff50-468e-905a-53255bc140ad"
      },
      "execution_count": null,
      "outputs": [
        {
          "output_type": "execute_result",
          "data": {
            "text/plain": [
              "<__main__.CustomDataset at 0x784e97f188b0>"
            ]
          },
          "metadata": {},
          "execution_count": 39
        }
      ]
    },
    {
      "cell_type": "code",
      "source": [
        "import matplotlib.pyplot as plt\n",
        "import torchvision.transforms as transforms"
      ],
      "metadata": {
        "id": "UXWyxSPO8kfv"
      },
      "execution_count": null,
      "outputs": []
    },
    {
      "cell_type": "code",
      "source": [
        "print(\"Dataset size:\", len(dataset))\n"
      ],
      "metadata": {
        "colab": {
          "base_uri": "https://localhost:8080/"
        },
        "id": "Aokemykc8SrZ",
        "outputId": "a5aeb40c-5b11-40d2-c1c6-3c1759a30275"
      },
      "execution_count": null,
      "outputs": [
        {
          "output_type": "stream",
          "name": "stdout",
          "text": [
            "Dataset size: 199\n"
          ]
        }
      ]
    },
    {
      "cell_type": "code",
      "source": [
        "sample_image, sample_label = dataset[0]\n",
        "print(\"Sample label:\", sample_label)\n",
        "\n",
        "if isinstance(sample_image, torch.Tensor):\n",
        "    sample_image = sample_image.permute(1, 2, 0)\n",
        "    mean = np.array([0.485, 0.456, 0.406])\n",
        "    std = np.array([0.229, 0.224, 0.225])\n",
        "    sample_image = sample_image * torch.tensor(std) + torch.tensor(mean)\n",
        "    sample_image = torch.clamp(sample_image, 0, 1)\n",
        "    sample_image = sample_image.numpy()\n",
        "    plt.imshow(sample_image)\n",
        "    plt.title(f\"Sample Label: {sample_label}\")\n",
        "    plt.axis('off')\n",
        "    plt.show()\n"
      ],
      "metadata": {
        "colab": {
          "base_uri": "https://localhost:8080/",
          "height": 445
        },
        "id": "xMc1DKoR9QN_",
        "outputId": "e559d22b-fd6f-48fe-d561-91a63667ad16"
      },
      "execution_count": null,
      "outputs": [
        {
          "output_type": "stream",
          "name": "stdout",
          "text": [
            "Sample label: 0\n"
          ]
        },
        {
          "output_type": "display_data",
          "data": {
            "text/plain": [
              "<Figure size 640x480 with 1 Axes>"
            ],
            "image/png": "[encoded data removed]"
          },
          "metadata": {}
        }
      ]
    },
    {
      "cell_type": "markdown",
      "source": [
        "## **Train,Test and Validation split**"
      ],
      "metadata": {
        "id": "_VIZETWFcGvg"
      }
    },
    {
      "cell_type": "code",
      "source": [
        "train_val_split = int(len(dataset) * 0.9)\n",
        "test_split = len(dataset) - train_val_split\n",
        "train_val_dataset, test_dataset = random_split(dataset, [train_val_split, test_split])"
      ],
      "metadata": {
        "id": "qhJp54OFYH4x"
      },
      "execution_count": null,
      "outputs": []
    },
    {
      "cell_type": "code",
      "source": [
        "train_split = int(train_val_split * 0.88)\n",
        "val_split = train_val_split - train_split\n",
        "train_dataset, val_dataset = random_split(train_val_dataset, [train_split, val_split])"
      ],
      "metadata": {
        "id": "t11_j5yrYH1T"
      },
      "execution_count": null,
      "outputs": []
    },
    {
      "cell_type": "markdown",
      "source": [
        "### **Create DataLoaders for train, test and validation split**"
      ],
      "metadata": {
        "id": "PvkFy-EPcOfj"
      }
    },
    {
      "cell_type": "code",
      "source": [
        "batch_size = 8\n",
        "train_loader = DataLoader(train_dataset, batch_size=batch_size, shuffle=True)\n",
        "val_loader = DataLoader(val_dataset, batch_size=batch_size)\n",
        "test_loader = DataLoader(test_dataset, batch_size=batch_size)"
      ],
      "metadata": {
        "id": "2Wnj0WDpYHz9"
      },
      "execution_count": null,
      "outputs": []
    },
    {
      "cell_type": "markdown",
      "source": [
        "### **Model Loading**"
      ],
      "metadata": {
        "id": "i2Wy4lzlcWkX"
      }
    },
    {
      "cell_type": "code",
      "source": [
        "import torch\n",
        "import torch.nn as nn\n",
        "import torch.optim as optim\n",
        "from torch.nn import Linear, Conv2d, BatchNorm1d, BatchNorm2d, PReLU, ReLU, Sigmoid, Dropout2d, Dropout, AvgPool2d, MaxPool2d, AdaptiveAvgPool2d, Sequential, Module, Parameter"
      ],
      "metadata": {
        "id": "tqTfSCYXYHw6"
      },
      "execution_count": null,
      "outputs": []
    },
    {
      "cell_type": "code",
      "source": [
        "class Conv_block(nn.Module):\n",
        "    def __init__(self, in_c, out_c, kernel=(1, 1), stride=(1, 1), padding=(0, 0), groups=1):\n",
        "        super(Conv_block, self).__init__()\n",
        "        self.conv = Conv2d(in_c, out_channels=out_c, kernel_size=kernel, groups=groups, stride=stride, padding=padding, bias=False)\n",
        "        self.bn = BatchNorm2d(out_c)\n",
        "        self.prelu = PReLU(out_c)\n",
        "    def forward(self, x):\n",
        "        x = self.conv(x)\n",
        "        x = self.bn(x)\n",
        "        x = self.prelu(x)\n",
        "        return x\n",
        "\n",
        "class Linear_block(nn.Module):\n",
        "    def __init__(self, in_c, out_c, kernel=(1, 1), stride=(1, 1), padding=(0, 0), groups=1):\n",
        "        super(Linear_block, self).__init__()\n",
        "        self.conv = Conv2d(in_c, out_channels=out_c, kernel_size=kernel, groups=groups, stride=stride, padding=padding, bias=False)\n",
        "        self.bn = BatchNorm2d(out_c)\n",
        "    def forward(self, x):\n",
        "        x = self.conv(x)\n",
        "        x = self.bn(x)\n",
        "        return x\n",
        "\n",
        "class Depth_Wise(nn.Module):\n",
        "     def __init__(self, in_c, out_c, residual = False, kernel=(3, 3), stride=(2, 2), padding=(1, 1), groups=1):\n",
        "        super(Depth_Wise, self).__init__()\n",
        "        self.conv = Conv_block(in_c, out_c=groups, kernel=(1, 1), padding=(0, 0), stride=(1, 1))\n",
        "        self.conv_dw = Conv_block(groups, groups, groups=groups, kernel=kernel, padding=padding, stride=stride)\n",
        "        self.project = Linear_block(groups, out_c, kernel=(1, 1), padding=(0, 0), stride=(1, 1))\n",
        "        self.residual = residual\n",
        "     def forward(self, x):\n",
        "        if self.residual:\n",
        "            short_cut = x\n",
        "        x = self.conv(x)\n",
        "        x = self.conv_dw(x)\n",
        "        x = self.project(x)\n",
        "        if self.residual:\n",
        "            output = short_cut + x\n",
        "        else:\n",
        "            output = x\n",
        "        return output\n",
        "\n",
        "class Residual(nn.Module):\n",
        "    def __init__(self, c, num_block, groups, kernel=(3, 3), stride=(1, 1), padding=(1, 1)):\n",
        "        super(Residual, self).__init__()\n",
        "        modules = []\n",
        "        for _ in range(num_block):\n",
        "            modules.append(Depth_Wise(c, c, residual=True, kernel=kernel, padding=padding, stride=stride, groups=groups))\n",
        "        self.model = Sequential(*modules)\n",
        "    def forward(self, x):\n",
        "        return self.model(x)\n"
      ],
      "metadata": {
        "id": "_H1ekCz8YHvW"
      },
      "execution_count": null,
      "outputs": []
    },
    {
      "cell_type": "code",
      "source": [
        "class MobileFaceNet(nn.Module):\n",
        "    def __init__(self, embedding_size):\n",
        "        super(MobileFaceNet, self).__init__()\n",
        "        self.conv1 = Conv_block(3, 64, kernel=(3, 3), stride=(2, 2), padding=(1, 1))\n",
        "        self.conv2_dw = Conv_block(64, 64, kernel=(3, 3), stride=(1, 1), padding=(1, 1), groups=64)\n",
        "        self.conv_23 = Depth_Wise(64, 64, kernel=(3, 3), stride=(2, 2), padding=(1, 1), groups=128)\n",
        "        self.conv_3 = Residual(64, num_block=4, groups=128, kernel=(3, 3), stride=(1, 1), padding=(1, 1))\n",
        "        self.conv_34 = Depth_Wise(64, 128, kernel=(3, 3), stride=(2, 2), padding=(1, 1), groups=256)\n",
        "        self.conv_4 = Residual(128, num_block=6, groups=256, kernel=(3, 3), stride=(1, 1), padding=(1, 1))\n",
        "        self.conv_45 = Depth_Wise(128, 128, kernel=(3, 3), stride=(2, 2), padding=(1, 1), groups=512)\n",
        "        self.conv_5 = Residual(128, num_block=2, groups=256, kernel=(3, 3), stride=(1, 1), padding=(1, 1))\n",
        "        self.conv_6_sep = Conv_block(128, 512, kernel=(1, 1), stride=(1, 1), padding=(0, 0))\n",
        "        self.conv_6_dw = Linear_block(512, 512, groups=512, kernel=(7,7), stride=(1, 1), padding=(0, 0))\n",
        "        self.conv_6_flatten = Flatten()\n",
        "        self.linear = Linear(512, embedding_size, bias=False)\n",
        "        self.bn = BatchNorm1d(embedding_size)\n",
        "\n",
        "    def forward(self, x):\n",
        "        out = self.conv1(x)\n",
        "\n",
        "        out = self.conv2_dw(out)\n",
        "\n",
        "        out = self.conv_23(out)\n",
        "\n",
        "        out = self.conv_3(out)\n",
        "\n",
        "        out = self.conv_34(out)\n",
        "\n",
        "        out = self.conv_4(out)\n",
        "\n",
        "        out = self.conv_45(out)\n",
        "\n",
        "        out = self.conv_5(out)\n",
        "\n",
        "        out = self.conv_6_sep(out)\n",
        "\n",
        "        out = self.conv_6_dw(out)\n",
        "\n",
        "        out = self.conv_6_flatten(out)\n",
        "\n",
        "        out = self.linear(out)\n",
        "\n",
        "        out = self.bn(out)\n",
        "        return l2_norm(out)\n"
      ],
      "metadata": {
        "id": "jGzIqdR1YHsI"
      },
      "execution_count": null,
      "outputs": []
    },
    {
      "cell_type": "code",
      "source": [
        "class Flatten(Module):\n",
        "    def forward(self, input):\n",
        "        return input.view(input.size(0), -1)\n",
        "\n",
        "def l2_norm(input,axis=1):\n",
        "    norm = torch.norm(input,2,axis,True)\n",
        "    output = torch.div(input, norm)\n",
        "    return output"
      ],
      "metadata": {
        "id": "-c8uyLh5YHql"
      },
      "execution_count": null,
      "outputs": []
    },
    {
      "cell_type": "code",
      "source": [
        "model_weights = torch.load(\"/content/drive/MyDrive/DL/model_mobilefacenet.pth\",\n",
        "                           map_location=torch.device('cpu'))\n"
      ],
      "metadata": {
        "id": "xyNtJUz9YHm7"
      },
      "execution_count": null,
      "outputs": []
    },
    {
      "cell_type": "code",
      "source": [
        "model = MobileFaceNet(embedding_size=512)"
      ],
      "metadata": {
        "id": "RsdGopc4YHlm"
      },
      "execution_count": null,
      "outputs": []
    },
    {
      "cell_type": "code",
      "source": [
        "model.load_state_dict(model_weights)"
      ],
      "metadata": {
        "id": "LJVO83FYZBLI",
        "colab": {
          "base_uri": "https://localhost:8080/"
        },
        "outputId": "da486cc5-9f1a-4806-be08-22df9f304a09"
      },
      "execution_count": null,
      "outputs": [
        {
          "output_type": "execute_result",
          "data": {
            "text/plain": [
              "<All keys matched successfully>"
            ]
          },
          "metadata": {},
          "execution_count": 52
        }
      ]
    },
    {
      "cell_type": "markdown",
      "source": [
        "### **Model Training**"
      ],
      "metadata": {
        "id": "WJ4etysMchtz"
      }
    },
    {
      "cell_type": "code",
      "source": [
        "import torch\n",
        "import torch.nn as nn\n",
        "import torch.optim as optim\n",
        "from torch.utils.data import DataLoader\n",
        "from torchvision import transforms"
      ],
      "metadata": {
        "id": "UhHVhhZFYj1F"
      },
      "execution_count": null,
      "outputs": []
    },
    {
      "cell_type": "code",
      "source": [
        "num_classes=10"
      ],
      "metadata": {
        "id": "0K-l7wGBbOU_"
      },
      "execution_count": null,
      "outputs": []
    },
    {
      "cell_type": "code",
      "source": [
        "in_features = model.linear.in_features\n",
        "new_linear_layer = nn.Linear(in_features, num_classes)\n",
        "model.linear = new_linear_layer"
      ],
      "metadata": {
        "id": "r91ECZBBYjvh"
      },
      "execution_count": null,
      "outputs": []
    },
    {
      "cell_type": "code",
      "source": [
        "new_bn_layer = nn.BatchNorm1d(num_classes)\n",
        "model.bn = new_bn_layer"
      ],
      "metadata": {
        "id": "HSVIaN_YYjsr"
      },
      "execution_count": null,
      "outputs": []
    },
    {
      "cell_type": "code",
      "source": [
        "criterion = nn.CrossEntropyLoss()"
      ],
      "metadata": {
        "id": "3Pn75rtye723"
      },
      "execution_count": null,
      "outputs": []
    },
    {
      "cell_type": "code",
      "source": [
        "optimizer = optim.SGD(model.parameters(),\n",
        "                      lr=0.001,\n",
        "                      momentum=0.9)"
      ],
      "metadata": {
        "id": "PWiHNh4hYjrG"
      },
      "execution_count": null,
      "outputs": []
    },
    {
      "cell_type": "markdown",
      "source": [
        "## **Training Loop**"
      ],
      "metadata": {
        "id": "Vtu03JbrdA_4"
      }
    },
    {
      "cell_type": "code",
      "source": [
        "num_epochs=10"
      ],
      "metadata": {
        "id": "IB2l0MiFYjxQ"
      },
      "execution_count": null,
      "outputs": []
    },
    {
      "cell_type": "code",
      "source": [
        "for epoch in range(num_epochs):\n",
        "    model.train()\n",
        "    total_loss = 0.0\n",
        "    correct = 0\n",
        "    total = 0\n",
        "\n",
        "    for inputs, labels in train_loader:\n",
        "        optimizer.zero_grad()\n",
        "        outputs = model(inputs)\n",
        "        loss = criterion(outputs, labels)\n",
        "        #print(labels)\n",
        "        loss.backward()\n",
        "        optimizer.step()\n",
        "        total_loss += loss.item()\n",
        "        _, predicted = torch.max(outputs.data, 1)\n",
        "        total += labels.size(0)\n",
        "        correct += (predicted == labels).sum().item()\n",
        "\n",
        "\n",
        "    print(f'Epoch {epoch + 1}/{num_epochs}, '\n",
        "          f'Training Loss: {total_loss / len(train_loader):.4f}, '\n",
        "          f'Training Accuracy: {(100 * correct / total):.2f}%')\n"
      ],
      "metadata": {
        "id": "uRPFRZqkYjmv",
        "colab": {
          "base_uri": "https://localhost:8080/"
        },
        "outputId": "eed141ea-0427-49b6-ef48-7c2b6516492b"
      },
      "execution_count": null,
      "outputs": [
        {
          "output_type": "stream",
          "name": "stdout",
          "text": [
            "Epoch 1/10, Training Loss: 2.2462, Training Accuracy: 14.65%\n",
            "Epoch 2/10, Training Loss: 1.9155, Training Accuracy: 57.96%\n",
            "Epoch 3/10, Training Loss: 1.8299, Training Accuracy: 70.70%\n",
            "Epoch 4/10, Training Loss: 1.7643, Training Accuracy: 83.44%\n",
            "Epoch 5/10, Training Loss: 1.7411, Training Accuracy: 82.80%\n",
            "Epoch 6/10, Training Loss: 1.7562, Training Accuracy: 79.62%\n",
            "Epoch 7/10, Training Loss: 1.7583, Training Accuracy: 80.89%\n",
            "Epoch 8/10, Training Loss: 1.7203, Training Accuracy: 84.08%\n",
            "Epoch 9/10, Training Loss: 1.7014, Training Accuracy: 82.80%\n",
            "Epoch 10/10, Training Loss: 1.7017, Training Accuracy: 84.08%\n"
          ]
        }
      ]
    },
    {
      "cell_type": "markdown",
      "source": [
        "### **Saving the trained Model**"
      ],
      "metadata": {
        "id": "uyC20BFSdI3o"
      }
    },
    {
      "cell_type": "code",
      "source": [
        "torch.save(model.state_dict(), '/content/drive/MyDrive/DL/fine_tuned_mobilefacenet.pth')\n",
        "print(\"Fine-tuning completed.\")"
      ],
      "metadata": {
        "id": "92YyTObPYjjI",
        "colab": {
          "base_uri": "https://localhost:8080/"
        },
        "outputId": "c33086d3-fe2f-4983-8fc7-71ccb7ce74a2"
      },
      "execution_count": null,
      "outputs": [
        {
          "output_type": "stream",
          "name": "stdout",
          "text": [
            "Fine-tuning completed.\n"
          ]
        }
      ]
    },
    {
      "cell_type": "markdown",
      "source": [
        "## **Evaluate the Model**"
      ],
      "metadata": {
        "id": "VwwvwP0PdNv6"
      }
    },
    {
      "cell_type": "code",
      "source": [
        "model.eval()\n",
        "test_loss = 0.0\n",
        "correct = 0\n",
        "total = 0"
      ],
      "metadata": {
        "id": "RnReDij8Yjht"
      },
      "execution_count": null,
      "outputs": []
    },
    {
      "cell_type": "code",
      "source": [
        "with torch.no_grad():\n",
        "    for inputs, labels in test_loader:\n",
        "        outputs = model(inputs)\n",
        "        loss = criterion(outputs, labels)\n",
        "        test_loss += loss.item()\n",
        "        _, predicted = torch.max(outputs.data, 1)\n",
        "        total += labels.size(0)\n",
        "        correct += (predicted == labels).sum().item()\n",
        "average_test_loss = test_loss / len(test_loader)\n",
        "accuracy = 100 * correct / total\n"
      ],
      "metadata": {
        "id": "-4rvbTvMYjeO"
      },
      "execution_count": null,
      "outputs": []
    },
    {
      "cell_type": "code",
      "source": [
        "print(f'Test Loss: {average_test_loss:.4f}')\n",
        "print(f'Test Accuracy: {accuracy:.2f}%')"
      ],
      "metadata": {
        "id": "MAn-Y9TGYjc4",
        "colab": {
          "base_uri": "https://localhost:8080/"
        },
        "outputId": "325e35e9-5e66-4766-f0a7-67a0f09f3f79"
      },
      "execution_count": null,
      "outputs": [
        {
          "output_type": "stream",
          "name": "stdout",
          "text": [
            "Test Loss: 2.0997\n",
            "Test Accuracy: 35.00%\n"
          ]
        }
      ]
    },
    {
      "cell_type": "markdown",
      "source": [
        "### **HyperParameter Tuning from Validation set**"
      ],
      "metadata": {
        "id": "UDyOyMwhdUyo"
      }
    },
    {
      "cell_type": "code",
      "source": [
        "import torch\n",
        "import torch.nn as nn\n",
        "import torch.optim as optim"
      ],
      "metadata": {
        "id": "0kQd8xJaZb5V"
      },
      "execution_count": null,
      "outputs": []
    },
    {
      "cell_type": "code",
      "source": [
        "learning_rates = [1e-5, 1e-4, 1e-3, 1e-2]\n",
        "momentums = [0.9, 0.95, 0.99]"
      ],
      "metadata": {
        "id": "-GYoo0GNZb1d"
      },
      "execution_count": null,
      "outputs": []
    },
    {
      "cell_type": "code",
      "source": [
        "best_lr = None\n",
        "best_momentum = None\n",
        "best_validation_loss = float('inf')"
      ],
      "metadata": {
        "id": "vVHQwq4VZbzj"
      },
      "execution_count": null,
      "outputs": []
    },
    {
      "cell_type": "code",
      "source": [
        "for lr in learning_rates:\n",
        "    for momentum in momentums:\n",
        "        optimizer = optim.SGD(model.parameters(), lr=lr, momentum=momentum)\n",
        "        num_epochs = 10\n",
        "        for epoch in range(num_epochs):\n",
        "            model.train()\n",
        "            for inputs, labels in train_loader:\n",
        "                optimizer.zero_grad()\n",
        "                outputs = model(inputs)\n",
        "                loss = criterion(outputs, labels)\n",
        "                loss.backward()\n",
        "                optimizer.step()\n",
        "            model.eval()\n",
        "            with torch.no_grad():\n",
        "                validation_loss = 0.0\n",
        "                for inputs, labels in val_loader:\n",
        "                    outputs = model(inputs)\n",
        "                    loss = criterion(outputs, labels)\n",
        "                    validation_loss += loss.item()\n",
        "            if validation_loss < best_validation_loss:\n",
        "                best_validation_loss = validation_loss\n",
        "                best_lr = lr\n",
        "                best_momentum = momentum\n",
        "print(f'Best Learning Rate: {best_lr}')\n",
        "print(f'Best Momentum: {best_momentum}')\n"
      ],
      "metadata": {
        "id": "rXKqh-UKZbwR",
        "colab": {
          "base_uri": "https://localhost:8080/"
        },
        "outputId": "d092a8de-c613-4a5b-85eb-d028450f2a88"
      },
      "execution_count": null,
      "outputs": [
        {
          "output_type": "stream",
          "name": "stdout",
          "text": [
            "Best Learning Rate: 0.01\n",
            "Best Momentum: 0.95\n"
          ]
        }
      ]
    },
    {
      "cell_type": "markdown",
      "source": [
        "## **Retrain the Model with Best Hyperparameters**"
      ],
      "metadata": {
        "id": "sFstsT_Odnu1"
      }
    },
    {
      "cell_type": "code",
      "source": [
        "criterion = nn.CrossEntropyLoss()\n",
        "optimizer = optim.SGD(model.parameters(), lr=0.01, momentum=0.95)"
      ],
      "metadata": {
        "id": "pN2onE3JZbqj"
      },
      "execution_count": null,
      "outputs": []
    },
    {
      "cell_type": "code",
      "source": [
        "for epoch in range(num_epochs):\n",
        "    model.train()\n",
        "    total_loss = 0.0\n",
        "    correct = 0\n",
        "    total = 0\n",
        "\n",
        "    for inputs, labels in train_loader:\n",
        "        optimizer.zero_grad()\n",
        "        outputs = model(inputs)\n",
        "        loss = criterion(outputs, labels)\n",
        "        loss.backward()\n",
        "        optimizer.step()\n",
        "        total_loss += loss.item()\n",
        "\n",
        "        _, predicted = torch.max(outputs.data, 1)\n",
        "        total += labels.size(0)\n",
        "        correct += (predicted == labels).sum().item()\n",
        "\n",
        "    print(f'Epoch {epoch + 1}/{num_epochs}, '\n",
        "          f'Training Loss: {total_loss / len(train_loader):.4f}, '\n",
        "          f'Training Accuracy: {(100 * correct / total):.2f}%')\n"
      ],
      "metadata": {
        "id": "RUj1UQtIZbpN",
        "colab": {
          "base_uri": "https://localhost:8080/"
        },
        "outputId": "0be4d4d1-8976-42b7-c09c-d6bf90038547"
      },
      "execution_count": null,
      "outputs": [
        {
          "output_type": "stream",
          "name": "stdout",
          "text": [
            "Epoch 1/10, Training Loss: 1.6918, Training Accuracy: 85.35%\n",
            "Epoch 2/10, Training Loss: 1.7058, Training Accuracy: 84.08%\n",
            "Epoch 3/10, Training Loss: 1.6762, Training Accuracy: 87.26%\n",
            "Epoch 4/10, Training Loss: 1.7082, Training Accuracy: 80.89%\n",
            "Epoch 5/10, Training Loss: 1.7196, Training Accuracy: 79.62%\n",
            "Epoch 6/10, Training Loss: 1.7109, Training Accuracy: 81.53%\n",
            "Epoch 7/10, Training Loss: 1.7203, Training Accuracy: 78.34%\n",
            "Epoch 8/10, Training Loss: 1.6999, Training Accuracy: 82.17%\n",
            "Epoch 9/10, Training Loss: 1.6817, Training Accuracy: 84.08%\n",
            "Epoch 10/10, Training Loss: 1.6794, Training Accuracy: 84.08%\n"
          ]
        }
      ]
    },
    {
      "cell_type": "markdown",
      "source": [
        "### **Save the final Model**"
      ],
      "metadata": {
        "id": "E9pnj-wKfehv"
      }
    },
    {
      "cell_type": "code",
      "source": [
        "torch.save(model.state_dict(), '/content/drive/MyDrive/DL/final_fine_tuned_mobilefacenet.pth')\n",
        "print(\"Fine-tuning completed.\")"
      ],
      "metadata": {
        "colab": {
          "base_uri": "https://localhost:8080/"
        },
        "id": "vIkx1SlQe4Ln",
        "outputId": "46c08f66-8fdc-4da3-f552-dc41aa692687"
      },
      "execution_count": null,
      "outputs": [
        {
          "output_type": "stream",
          "name": "stdout",
          "text": [
            "Fine-tuning completed.\n"
          ]
        }
      ]
    },
    {
      "cell_type": "markdown",
      "source": [
        "### **Evaluate with the final model**"
      ],
      "metadata": {
        "id": "_pXS_PTlfk0b"
      }
    },
    {
      "cell_type": "code",
      "source": [
        "model.eval()\n",
        "test_loss = 0.0\n",
        "correct = 0\n",
        "total = 0"
      ],
      "metadata": {
        "id": "GeTcdUz2fopk"
      },
      "execution_count": null,
      "outputs": []
    },
    {
      "cell_type": "code",
      "source": [
        "with torch.no_grad():\n",
        "    for inputs, labels in test_loader:\n",
        "        outputs = model(inputs)\n",
        "        loss = criterion(outputs, labels)\n",
        "        test_loss += loss.item()\n",
        "        _, predicted = torch.max(outputs.data, 1)\n",
        "        total += labels.size(0)\n",
        "        correct += (predicted == labels).sum().item()\n",
        "average_test_loss = test_loss / len(test_loader)\n",
        "accuracy = 100 * correct / total\n"
      ],
      "metadata": {
        "id": "XnKH_4Tmftes"
      },
      "execution_count": null,
      "outputs": []
    },
    {
      "cell_type": "code",
      "source": [
        "print(f'Test Loss: {average_test_loss:.4f}')\n",
        "print(f'Test Accuracy: {accuracy:.2f}%')"
      ],
      "metadata": {
        "id": "5MVL8dnUfym_"
      },
      "execution_count": null,
      "outputs": []
    },
    {
      "cell_type": "code",
      "source": [
        "print(f'Test Loss: {average_test_loss:.4f}')\n",
        "print(f'Test Accuracy: {accuracy:.2f}%')"
      ],
      "metadata": {
        "id": "Np4w-B2Fs-D0",
        "colab": {
          "base_uri": "https://localhost:8080/"
        },
        "outputId": "91189483-e852-4b3b-816c-3df90ad24851"
      },
      "execution_count": null,
      "outputs": [
        {
          "output_type": "stream",
          "name": "stdout",
          "text": [
            "Test Loss: 0.234\n",
            "Test Accuracy: 86.09%\n"
          ]
        }
      ]
    },
    {
      "cell_type": "code",
      "source": [],
      "metadata": {
        "id": "mE4wx1_mhaI7"
      },
      "execution_count": null,
      "outputs": []
    }
  ]
}