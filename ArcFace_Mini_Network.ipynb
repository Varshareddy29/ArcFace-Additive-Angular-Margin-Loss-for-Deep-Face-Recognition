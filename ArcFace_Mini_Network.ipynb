{
  "nbformat": 4,
  "nbformat_minor": 0,
  "metadata": {
    "colab": {
      "provenance": []
    },
    "kernelspec": {
      "name": "python3",
      "display_name": "Python 3"
    },
    "language_info": {
      "name": "python"
    }
  },
  "cells": [
    {
      "cell_type": "markdown",
      "source": [
        "## **Import Dependencies**"
      ],
      "metadata": {
        "id": "2-M1cIiVXhDo"
      }
    },
    {
      "cell_type": "code",
      "execution_count": null,
      "metadata": {
        "id": "HB0hhxyfJ_sT"
      },
      "outputs": [],
      "source": [
        "import os\n",
        "import pandas as pd\n",
        "import torch\n",
        "import numpy as np\n",
        "from torch.utils.data import DataLoader, Dataset, random_split\n",
        "from torchvision import transforms\n",
        "from PIL import Image"
      ]
    },
    {
      "cell_type": "markdown",
      "source": [
        "## **Create Custom Dataset Class**"
      ],
      "metadata": {
        "id": "9JmZDgP5Xk--"
      }
    },
    {
      "cell_type": "code",
      "source": [
        "class CustomDataset(Dataset):\n",
        "    def __init__(self, csv_file, root_dir, transform=None):\n",
        "        self.dataframe = pd.read_csv(csv_file)\n",
        "        self.root_dir = root_dir\n",
        "        self.transform = transform\n",
        "\n",
        "    def __len__(self):\n",
        "        return len(self.dataframe)\n",
        "\n",
        "    def __getitem__(self, idx):\n",
        "        img_name = os.path.join(self.root_dir, self.dataframe.iloc[idx, 0])\n",
        "        image = Image.open(img_name)\n",
        "        label = int(self.dataframe.iloc[idx, 1])\n",
        "\n",
        "        if self.transform:\n",
        "            image = self.transform(image)\n",
        "\n",
        "        return image, label\n"
      ],
      "metadata": {
        "id": "sCs27luqK-ow"
      },
      "execution_count": null,
      "outputs": []
    },
    {
      "cell_type": "markdown",
      "source": [
        "## **Paths to dataset and labels**"
      ],
      "metadata": {
        "id": "sUl4Z8vtXqMr"
      }
    },
    {
      "cell_type": "code",
      "source": [
        "root_dir = '/content/drive/MyDrive/DL/data/new_dataset'\n",
        "csv_filename = '/content/drive/MyDrive/DL/data/dataset_labels.csv'"
      ],
      "metadata": {
        "id": "4XDp9gRjLROF"
      },
      "execution_count": null,
      "outputs": []
    },
    {
      "cell_type": "code",
      "source": [
        "dataset = CustomDataset(csv_file=csv_filename, root_dir=root_dir, transform=transform)\n",
        "dataset"
      ],
      "metadata": {
        "colab": {
          "base_uri": "https://localhost:8080/"
        },
        "id": "geExKQC3LU59",
        "outputId": "ede5530b-7e58-4240-8d92-98aec4d73703"
      },
      "execution_count": null,
      "outputs": [
        {
          "output_type": "execute_result",
          "data": {
            "text/plain": [
              "<__main__.CustomDataset at 0x7de51ac07ac0>"
            ]
          },
          "metadata": {},
          "execution_count": 18
        }
      ]
    },
    {
      "cell_type": "markdown",
      "source": [
        "# **Split data into Train, Test, and Validation splits**"
      ],
      "metadata": {
        "id": "txxNOLF7Xzvt"
      }
    },
    {
      "cell_type": "code",
      "source": [
        "train_val_split = int(len(dataset) * 0.9)\n",
        "test_split = len(dataset) - train_val_split\n",
        "train_val_dataset, test_dataset = random_split(dataset, [train_val_split, test_split])"
      ],
      "metadata": {
        "id": "yUH8wiC8LW5x"
      },
      "execution_count": null,
      "outputs": []
    },
    {
      "cell_type": "code",
      "source": [
        "train_split = int(train_val_split * 0.88)\n",
        "val_split = train_val_split - train_split\n",
        "train_dataset, val_dataset = random_split(train_val_dataset, [train_split, val_split])"
      ],
      "metadata": {
        "id": "-l6L9NReLZqC"
      },
      "execution_count": null,
      "outputs": []
    },
    {
      "cell_type": "code",
      "source": [
        "batch_size = 8\n",
        "train_loader = DataLoader(train_dataset, batch_size=batch_size, shuffle=True)\n",
        "val_loader = DataLoader(val_dataset, batch_size=batch_size)\n",
        "test_loader = DataLoader(test_dataset, batch_size=batch_size)"
      ],
      "metadata": {
        "id": "ovXzun7gLbS_"
      },
      "execution_count": null,
      "outputs": []
    },
    {
      "cell_type": "markdown",
      "source": [
        "## **Calcualte Mean and Standard Deviation of Training Data**"
      ],
      "metadata": {
        "id": "hYKqcdbcX9JZ"
      }
    },
    {
      "cell_type": "code",
      "source": [
        "mean = 0.\n",
        "std = 0.\n",
        "total_samples = 0"
      ],
      "metadata": {
        "id": "-FKSUUCpMLaQ"
      },
      "execution_count": null,
      "outputs": []
    },
    {
      "cell_type": "code",
      "source": [
        "for inputs, _ in train_loader:\n",
        "    batch_samples = inputs.size(0)\n",
        "    inputs = inputs.view(batch_samples, inputs.size(1), -1)\n",
        "    mean += inputs.mean(2).sum(0)\n",
        "    std += inputs.std(2).sum(0)\n",
        "    total_samples += batch_samples"
      ],
      "metadata": {
        "id": "jAVl8XEIMNGA"
      },
      "execution_count": null,
      "outputs": []
    },
    {
      "cell_type": "code",
      "source": [
        "mean /= total_samples\n",
        "std /= total_samples"
      ],
      "metadata": {
        "id": "wkVmEDCrMQfu"
      },
      "execution_count": null,
      "outputs": []
    },
    {
      "cell_type": "code",
      "source": [
        "print(\"Mean:\", mean)\n",
        "print(\"Std:\", std)\n"
      ],
      "metadata": {
        "colab": {
          "base_uri": "https://localhost:8080/"
        },
        "id": "cOFWV5dtLevj",
        "outputId": "fd6d947a-d5a2-407a-ca5a-4dcf621bc13b"
      },
      "execution_count": null,
      "outputs": [
        {
          "output_type": "stream",
          "name": "stdout",
          "text": [
            "Mean: tensor([ 0.3169, -0.2145, -0.2788])\n",
            "Std: tensor([1.0315, 0.8346, 0.7160])\n"
          ]
        }
      ]
    },
    {
      "cell_type": "markdown",
      "source": [
        "#**Data Augmentation and Normalization**"
      ],
      "metadata": {
        "id": "JFqdJtHoYI5x"
      }
    },
    {
      "cell_type": "code",
      "source": [
        "train_transform = transforms.Compose([\n",
        "    transforms.RandomResizedCrop(112),\n",
        "    transforms.RandomHorizontalFlip(),\n",
        "    transforms.RandomRotation(degrees=15),\n",
        "    transforms.ColorJitter(brightness=0.2, contrast=0.2, saturation=0.2, hue=0.2),\n",
        "    transforms.ToTensor(),\n",
        "    transforms.Normalize(mean=[ 0.3169, -0.2145, -0.2788], std=[1.0315, 0.8346, 0.7160]),\n",
        "])"
      ],
      "metadata": {
        "id": "L223uVlYN3FO"
      },
      "execution_count": null,
      "outputs": []
    },
    {
      "cell_type": "code",
      "source": [
        "train_dataset = CustomDataset(csv_file=csv_filename, root_dir=root_dir, transform=train_transform)"
      ],
      "metadata": {
        "id": "E67dY2uuN48C"
      },
      "execution_count": null,
      "outputs": []
    },
    {
      "cell_type": "code",
      "source": [
        "val_transform = transforms.Compose([\n",
        "    transforms.Resize((112, 112)),\n",
        "    transforms.ToTensor(),\n",
        "    transforms.Normalize(mean=[ 0.3169, -0.2145, -0.2788], std=[1.0315, 0.8346, 0.7160]),\n",
        "])"
      ],
      "metadata": {
        "id": "nFrkA6rFN7Au"
      },
      "execution_count": null,
      "outputs": []
    },
    {
      "cell_type": "code",
      "source": [
        "val_dataset = CustomDataset(csv_file=csv_filename, root_dir=root_dir, transform=val_transform)\n",
        "test_dataset = CustomDataset(csv_file=csv_filename, root_dir=root_dir, transform=val_transform)\n"
      ],
      "metadata": {
        "id": "j_dw7qfsNz58"
      },
      "execution_count": null,
      "outputs": []
    },
    {
      "cell_type": "markdown",
      "source": [
        "# **Create a Mini ArcFace Network**"
      ],
      "metadata": {
        "id": "mPode-MlYUDi"
      }
    },
    {
      "cell_type": "code",
      "source": [
        "import torch\n",
        "import torch.nn as nn\n",
        "import torch.nn.functional as F\n",
        "import torch.optim as optim"
      ],
      "metadata": {
        "id": "tJslGwHGR61N"
      },
      "execution_count": null,
      "outputs": []
    },
    {
      "cell_type": "code",
      "source": [
        "class MiniNetwork(nn.Module):\n",
        "    def __init__(self, num_classes):\n",
        "        super(MiniNetwork, self).__init__()\n",
        "\n",
        "        # Layer 1\n",
        "        self.conv1 = nn.Conv2d(in_channels=3, out_channels=32, kernel_size=3, stride=1, padding=1)\n",
        "        nn.init.kaiming_normal_(self.conv1.weight, nonlinearity='relu')\n",
        "        nn.init.zeros_(self.conv1.bias)\n",
        "\n",
        "        # Layer 2\n",
        "        self.conv2 = nn.Conv2d(in_channels=32, out_channels=64, kernel_size=3, stride=1, padding=1)\n",
        "        nn.init.kaiming_normal_(self.conv2.weight, nonlinearity='relu')\n",
        "        nn.init.zeros_(self.conv2.bias)\n",
        "\n",
        "        # Layer 3\n",
        "        self.conv3 = nn.Conv2d(in_channels=64, out_channels=128, kernel_size=3, stride=1, padding=1)\n",
        "        nn.init.kaiming_normal_(self.conv3.weight, nonlinearity='relu')\n",
        "        nn.init.zeros_(self.conv3.bias)\n",
        "\n",
        "        # Layer 4 (Fully Connected)\n",
        "        self.fc1 = nn.Linear(128 * 112 * 112, num_classes)\n",
        "        nn.init.kaiming_normal_(self.fc1.weight, nonlinearity='relu')\n",
        "        nn.init.zeros_(self.fc1.bias)\n",
        "\n",
        "    def forward(self, x):\n",
        "        x = F.relu(self.conv1(x))\n",
        "        x = F.relu(self.conv2(x))\n",
        "        x = F.relu(self.conv3(x))\n",
        "        x = x.view(x.size(0), -1)\n",
        "        x = self.fc1(x)\n",
        "        return x"
      ],
      "metadata": {
        "id": "iI6vmPPCR6xV"
      },
      "execution_count": null,
      "outputs": []
    },
    {
      "cell_type": "code",
      "source": [
        "num_classes = 20"
      ],
      "metadata": {
        "id": "GM8KCOL1R6vo"
      },
      "execution_count": null,
      "outputs": []
    },
    {
      "cell_type": "code",
      "source": [
        "model = MiniNetwork(num_classes=num_classes)\n",
        "criterion = nn.CrossEntropyLoss()\n",
        "optimizer = optim.SGD(model.parameters(), lr=0.1, momentum=0.95)"
      ],
      "metadata": {
        "id": "NFAMGH1CSCaF"
      },
      "execution_count": null,
      "outputs": []
    },
    {
      "cell_type": "markdown",
      "source": [
        "# **Training Loop**"
      ],
      "metadata": {
        "id": "HdiUzOhaYbiZ"
      }
    },
    {
      "cell_type": "code",
      "source": [
        "for epoch in range(num_epochs):\n",
        "    for inputs, labels in train_loader:\n",
        "        optimizer.zero_grad()\n",
        "        outputs = model(inputs)\n",
        "        loss = criterion(outputs, labels)\n",
        "        loss.backward()\n",
        "        optimizer.step()\n"
      ],
      "metadata": {
        "id": "pCwfc88EQO-k"
      },
      "execution_count": null,
      "outputs": []
    },
    {
      "cell_type": "markdown",
      "source": [
        "# **Evaluate the Model**"
      ],
      "metadata": {
        "id": "oUF5GYNoYg7q"
      }
    },
    {
      "cell_type": "code",
      "source": [
        "model.eval()\n",
        "total_correct = 0\n",
        "total_samples = 0\n"
      ],
      "metadata": {
        "id": "RtJaexj9Qwa_"
      },
      "execution_count": null,
      "outputs": []
    },
    {
      "cell_type": "code",
      "source": [
        "with torch.no_grad():\n",
        "    for inputs, labels in val_loader:\n",
        "        outputs = model(inputs)\n",
        "        _, predicted = torch.max(outputs, 1)\n",
        "        total_samples += labels.size(0)\n",
        "        total_correct += (predicted == labels).sum().item()\n",
        "\n",
        "accuracy = total_correct / total_samples\n",
        "print(f'Validation Accuracy: {accuracy * 100:.2f}%')\n"
      ],
      "metadata": {
        "colab": {
          "base_uri": "https://localhost:8080/"
        },
        "id": "k_ueaeWgtS5T",
        "outputId": "5f042f91-fa99-4898-d287-a9eea32e3ef9"
      },
      "execution_count": null,
      "outputs": [
        {
          "output_type": "stream",
          "name": "stdout",
          "text": [
            "Validation Accuracy: 73.46%\n"
          ]
        }
      ]
    },
    {
      "cell_type": "markdown",
      "source": [
        "# **Hyperparameter Tuning**"
      ],
      "metadata": {
        "id": "hYrczm9lYpKN"
      }
    },
    {
      "cell_type": "code",
      "source": [
        "learning_rates = [1e-5, 1e-4, 1e-3, 1e-2]\n",
        "momentums = [0.9, 0.95, 0.99]"
      ],
      "metadata": {
        "id": "t768plAuV4dF"
      },
      "execution_count": null,
      "outputs": []
    },
    {
      "cell_type": "code",
      "source": [
        "best_lr = None\n",
        "best_momentum = None\n",
        "best_validation_loss = float('inf')"
      ],
      "metadata": {
        "id": "AJ6wDiFkV4Y7"
      },
      "execution_count": null,
      "outputs": []
    },
    {
      "cell_type": "code",
      "source": [
        "for lr in learning_rates:\n",
        "    for momentum in momentums:\n",
        "        optimizer = optim.SGD(model.parameters(), lr=lr, momentum=momentum)\n",
        "        num_epochs = 20\n",
        "        for epoch in range(num_epochs):\n",
        "            model.train()\n",
        "            for inputs, labels in train_loader:\n",
        "                optimizer.zero_grad()\n",
        "                outputs = model(inputs)\n",
        "                loss = criterion(outputs, labels)\n",
        "                loss.backward()\n",
        "                optimizer.step()\n",
        "            model.eval()\n",
        "            with torch.no_grad():\n",
        "                validation_loss = 0.0\n",
        "                for inputs, labels in val_loader:\n",
        "                    outputs = model(inputs)\n",
        "                    loss = criterion(outputs, labels)\n",
        "                    validation_loss += loss.item()\n",
        "            if validation_loss < best_validation_loss:\n",
        "                best_validation_loss = validation_loss\n",
        "                best_lr = lr\n",
        "                best_momentum = momentum\n",
        "print(f'Best Learning Rate: {best_lr}')\n",
        "print(f'Best Momentum: {best_momentum}')\n"
      ],
      "metadata": {
        "colab": {
          "base_uri": "https://localhost:8080/"
        },
        "id": "8I-xw3orV4Xz",
        "outputId": "a228ac65-66db-4c9b-972b-838b97d29094"
      },
      "execution_count": null,
      "outputs": [
        {
          "output_type": "stream",
          "name": "stdout",
          "text": [
            "Best Learning Rate: 0.001\n",
            "Best Momentum: 0.99\n"
          ]
        }
      ]
    },
    {
      "cell_type": "markdown",
      "source": [
        "## **Use Best parameters to train model again**"
      ],
      "metadata": {
        "id": "qy5ibVSttr4z"
      }
    },
    {
      "cell_type": "code",
      "source": [
        "optimizer = optim.SGD(model.parameters(), lr=0.001, momentum=0.99)"
      ],
      "metadata": {
        "id": "2D8t4OekV8g5"
      },
      "execution_count": null,
      "outputs": []
    },
    {
      "cell_type": "code",
      "source": [
        "num_epochs=20\n",
        "for epoch in range(num_epochs):\n",
        "    for inputs, labels in train_loader:\n",
        "        optimizer.zero_grad()\n",
        "        outputs = model(inputs)\n",
        "        loss = criterion(outputs, labels)\n",
        "        loss.backward()\n",
        "        optimizer.step()\n"
      ],
      "metadata": {
        "id": "nMcoYkQ0n3gz"
      },
      "execution_count": null,
      "outputs": []
    },
    {
      "cell_type": "markdown",
      "source": [
        "## **Learning Rate Decay and Training and Validation Plots**"
      ],
      "metadata": {
        "id": "80JhOpvet5AA"
      }
    },
    {
      "cell_type": "code",
      "source": [
        "import torch\n",
        "import torch.nn as nn\n",
        "import torch.optim as optim\n",
        "import matplotlib.pyplot as plt\n",
        "\n",
        "config = {\n",
        "    'num_epochs': 20,\n",
        "    'initial_lr': 0.001,\n",
        "    'lr_decay_factor': 0.5,\n",
        "    'lr_decay_epochs': 3,\n",
        "}\n",
        "\n",
        "initial_lr = config['initial_lr']\n",
        "lr_decay_factor = config['lr_decay_factor']\n",
        "lr_decay_epochs = config['lr_decay_epochs']\n",
        "\n",
        "def adjust_learning_rate(optimizer, epoch):\n",
        "    lr = initial_lr * (lr_decay_factor ** (epoch // lr_decay_epochs))\n",
        "    for param_group in optimizer.param_groups:\n",
        "        param_group['lr'] = lr\n",
        "\n",
        "train_losses = []\n",
        "val_losses = []\n",
        "\n",
        "for epoch in range(config['num_epochs']):\n",
        "    model.train()\n",
        "    epoch_train_loss = 0.0\n",
        "    for inputs, labels in train_loader:\n",
        "        optimizer.zero_grad()\n",
        "        outputs = model(inputs)\n",
        "        loss = criterion(outputs, labels)\n",
        "        loss.backward()\n",
        "        optimizer.step()\n",
        "        epoch_train_loss += loss.item()\n",
        "\n",
        "    epoch_val_loss = 0.0\n",
        "    model.eval()\n",
        "    with torch.no_grad():\n",
        "        for inputs, labels in val_loader:\n",
        "            outputs = model(inputs)\n",
        "            loss = criterion(outputs, labels)\n",
        "            epoch_val_loss += loss.item()\n",
        "\n",
        "    epoch_train_loss /= len(train_loader)\n",
        "    epoch_val_loss /= len(val_loader)\n",
        "\n",
        "    train_losses.append(epoch_train_loss)\n",
        "    val_losses.append(epoch_val_loss)\n",
        "\n",
        "    adjust_learning_rate(optimizer, epoch)\n",
        "\n",
        "# Plot training and validation losses\n",
        "plt.plot(train_losses, label='Training Loss')\n",
        "plt.plot(val_losses, label='Validation Loss')\n",
        "plt.title('Training and Validation Loss')\n",
        "plt.xlabel('Epoch')\n",
        "plt.ylabel('Loss')\n",
        "plt.legend()\n",
        "plt.show()\n"
      ],
      "metadata": {
        "colab": {
          "base_uri": "https://localhost:8080/",
          "height": 406
        },
        "id": "zB5ofJBQsY_L",
        "outputId": "28c4755e-1839-47ed-9720-1a906015d226"
      },
      "execution_count": null,
      "outputs": [
        {
          "output_type": "display_data",
          "data": {
            "text/plain": [
              "<Figure size 640x480 with 1 Axes>"
            ],
            "image/png": "[encoded data removed]"
          },
          "metadata": {}
        }
      ]
    },
    {
      "cell_type": "markdown",
      "source": [
        "## **Evaluate on test data**"
      ],
      "metadata": {
        "id": "yj_s_0Q3uPwR"
      }
    },
    {
      "cell_type": "code",
      "source": [
        "model.eval()  # Set the model to evaluation mode\n",
        "total_correct = 0\n",
        "total_samples = 0\n"
      ],
      "metadata": {
        "id": "O6uOhC6yn51U"
      },
      "execution_count": null,
      "outputs": []
    },
    {
      "cell_type": "code",
      "source": [
        "with torch.no_grad():\n",
        "    for inputs, labels in test_loader:  # Replace val_loader with your validation or test DataLoader\n",
        "        outputs = model(inputs)\n",
        "        _, predicted = torch.max(outputs, 1)\n",
        "        total_samples += labels.size(0)\n",
        "        total_correct += (predicted == labels).sum().item()\n",
        "\n",
        "accuracy = total_correct / total_samples\n",
        "print(f'Test Accuracy: {accuracy * 100:.2f}%')\n"
      ],
      "metadata": {
        "colab": {
          "base_uri": "https://localhost:8080/"
        },
        "id": "sVrFJ9kmuUhj",
        "outputId": "b9dd1c2a-ded7-4530-ee7a-293136f5bcf2"
      },
      "execution_count": null,
      "outputs": [
        {
          "output_type": "stream",
          "name": "stdout",
          "text": [
            "Test Accuracy: 88.79%\n"
          ]
        }
      ]
    },
    {
      "cell_type": "code",
      "source": [],
      "metadata": {
        "id": "LgDHwhYHsPfA"
      },
      "execution_count": null,
      "outputs": []
    }
  ]
}